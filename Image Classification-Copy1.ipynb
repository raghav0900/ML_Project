{
 "cells": [
  {
   "cell_type": "code",
   "execution_count": 2,
   "id": "b232ae79",
   "metadata": {},
   "outputs": [],
   "source": [
    "import numpy as np\n",
    "import matplotlib.image as mpimg\n",
    "import matplotlib.pyplot as plt\n",
    "import tensorflow as tf\n",
    "from IPython.display import display, Image\n",
    "import shutil\n",
    "import pandas as pd\n",
    "from tensorflow.keras.preprocessing.image import ImageDataGenerator\n",
    "import os"
   ]
  },
  {
   "cell_type": "code",
   "execution_count": 3,
   "id": "38a656eb",
   "metadata": {},
   "outputs": [],
   "source": [
    "model = tf.keras.models.Sequential([\n",
    "    tf.keras.layers.Conv2D(16, (3, 3), activation=\"relu\", input_shape=(180, 180, 3)),\n",
    "    tf.keras.layers.MaxPooling2D(2, 2),\n",
    "    tf.keras.layers.Conv2D(32, (3, 3), activation=\"relu\"),\n",
    "    tf.keras.layers.MaxPooling2D(2, 2),\n",
    "    tf.keras.layers.Conv2D(64, (3, 3), activation=\"relu\"),\n",
    "    tf.keras.layers.MaxPooling2D(2, 2),\n",
    "    tf.keras.layers.Conv2D(128, (3, 3), activation=\"relu\"),\n",
    "    tf.keras.layers.MaxPooling2D(2, 2),\n",
    "    tf.keras.layers.Flatten(),\n",
    "    tf.keras.layers.Dense(550, activation=\"relu\"),\n",
    "    tf.keras.layers.Dropout(0.1, seed=2019),\n",
    "    tf.keras.layers.Dense(400, activation=\"relu\"),\n",
    "    tf.keras.layers.Dropout(0.3, seed=2019),\n",
    "    tf.keras.layers.Dense(300, activation=\"relu\"),\n",
    "    tf.keras.layers.Dropout(0.4, seed=2019),\n",
    "    tf.keras.layers.Dense(200, activation=\"relu\"),\n",
    "    tf.keras.layers.Dropout(0.2, seed=2019),\n",
    "    tf.keras.layers.Dense(1, activation=\"sigmoid\")  # Output layer for binary classification\n",
    "])"
   ]
  },
  {
   "cell_type": "code",
   "execution_count": 4,
   "id": "20920d44",
   "metadata": {},
   "outputs": [],
   "source": [
    "with open('test_ids.txt', 'r') as file:\n",
    "    # Read all lines into a list\n",
    "    lines = file.readlines()\n",
    "    test_ids = []\n",
    "\n",
    "    # Print each line\n",
    "    for line in lines:\n",
    "        test_ids.append(line.strip() + '.jpg')"
   ]
  },
  {
   "cell_type": "code",
   "execution_count": 5,
   "id": "5bac303b",
   "metadata": {},
   "outputs": [],
   "source": [
    "with open('train_ids.txt', 'r') as file:\n",
    "    # Read all lines into a list\n",
    "    lines = file.readlines()\n",
    "    train_ids = []\n",
    "\n",
    "    # Print each line\n",
    "    for line in lines:\n",
    "        train_ids.append(line.strip() + '.jpg')"
   ]
  },
  {
   "cell_type": "code",
   "execution_count": 6,
   "id": "f61a2928",
   "metadata": {},
   "outputs": [],
   "source": [
    "with open('val_ids.txt', 'r') as file:\n",
    "    # Read all lines into a list\n",
    "    lines = file.readlines()\n",
    "    val_ids = []\n",
    "\n",
    "    # Print each line\n",
    "    for line in lines:\n",
    "        val_ids.append(line.strip() + '.jpg')"
   ]
  },
  {
   "cell_type": "code",
   "execution_count": 7,
   "id": "29335bbb",
   "metadata": {},
   "outputs": [
    {
     "name": "stdout",
     "output_type": "stream",
     "text": [
      "Number of images in training dataset:  134823\n",
      "Number of images in validation dataset:  5000\n",
      "Number of images in testing dataset:  10000\n"
     ]
    }
   ],
   "source": [
    "print(\"Number of images in training dataset: \", len(train_ids))\n",
    "print(\"Number of images in validation dataset: \", len(val_ids))\n",
    "print(\"Number of images in testing dataset: \", len(test_ids))"
   ]
  },
  {
   "cell_type": "code",
   "execution_count": 8,
   "id": "33ff78b3",
   "metadata": {},
   "outputs": [],
   "source": [
    "#get image files\n",
    "def get_image_files(folder_path):\n",
    "    files = os.listdir(folder_path)\n",
    "    image_files = []\n",
    "    \n",
    "    for file in files:\n",
    "        if file.lower().endswith('.jpg'):\n",
    "            image_files.append(file)\n",
    "    \n",
    "    return image_files\n",
    "        "
   ]
  },
  {
   "cell_type": "code",
   "execution_count": 9,
   "id": "0d0eb839",
   "metadata": {},
   "outputs": [],
   "source": [
    "train_path = '/Users/raghavraahul/Downloads/Machine Learning under a Modern Optimization Lens/ML Project/train'\n",
    "test_path = '/Users/raghavraahul/Downloads/Machine Learning under a Modern Optimization Lens/ML Project/test'\n",
    "val_path = '/Users/raghavraahul/Downloads/Machine Learning under a Modern Optimization Lens/ML Project/valid'"
   ]
  },
  {
   "cell_type": "code",
   "execution_count": 10,
   "id": "3c080c37",
   "metadata": {},
   "outputs": [],
   "source": [
    "def copy_files(source_path, destination_path, titles):\n",
    "    for title in titles:\n",
    "        source_file = os.path.join(data_directory, title)\n",
    "        destination_file = os.path.join(destination_path, title)\n",
    "        shutil.copy(source_file, destination_file)"
   ]
  },
  {
   "cell_type": "code",
   "execution_count": 11,
   "id": "1b04cf43",
   "metadata": {},
   "outputs": [],
   "source": [
    "#data_directory = \"/Users/raghavraahul/Downloads/Machine Learning under a Modern Optimization Lens/ML Project/img_resized/\""
   ]
  },
  {
   "cell_type": "code",
   "execution_count": 12,
   "id": "490e14bd",
   "metadata": {},
   "outputs": [],
   "source": [
    "#already done\n",
    "#copy_files(data_directory, train_path, train_ids)\n",
    "#copy_files(data_directory, val_path, val_ids)\n",
    "#copy_files(data_directory, test_path, test_ids)"
   ]
  },
  {
   "cell_type": "code",
   "execution_count": 13,
   "id": "06f78605",
   "metadata": {},
   "outputs": [
    {
     "data": {
      "text/plain": [
       "134823"
      ]
     },
     "execution_count": 13,
     "metadata": {},
     "output_type": "execute_result"
    }
   ],
   "source": [
    "len(get_image_files(train_path))"
   ]
  },
  {
   "cell_type": "code",
   "execution_count": 14,
   "id": "7cdba8dc",
   "metadata": {},
   "outputs": [],
   "source": [
    "import json\n",
    "\n",
    "# Specify the path to your JSON file\n",
    "json_file_path = '/Users/raghavraahul/Downloads/Machine Learning under a Modern Optimization Lens/ML Project/MMHS150K_GT.json'\n",
    "\n",
    "# Open the JSON file for reading\n",
    "with open(json_file_path, 'r') as json_file:\n",
    "    # Load the JSON data\n",
    "    data = json.load(json_file)"
   ]
  },
  {
   "cell_type": "code",
   "execution_count": 15,
   "id": "f8f737fa",
   "metadata": {},
   "outputs": [],
   "source": [
    "df = pd.DataFrame.from_dict(data, orient='index')\n",
    "df = df.reset_index()\n",
    "newColumns = {\"index\": \"id\"}\n",
    "df = df.rename(columns=newColumns)"
   ]
  },
  {
   "cell_type": "code",
   "execution_count": 16,
   "id": "a5855206",
   "metadata": {},
   "outputs": [],
   "source": [
    "#0 for nothate, #1 for hate\n",
    "def labels_to_binary(labels):\n",
    "    if sum(labels) <= 1:\n",
    "        return 0\n",
    "    else:\n",
    "        return 1"
   ]
  },
  {
   "cell_type": "code",
   "execution_count": 17,
   "id": "4c289aab",
   "metadata": {},
   "outputs": [
    {
     "data": {
      "text/plain": [
       "61547"
      ]
     },
     "execution_count": 17,
     "metadata": {},
     "output_type": "execute_result"
    }
   ],
   "source": [
    "df[\"Hate(1)_vs_NotHate(0)\"] = df[\"labels\"].apply(labels_to_binary)\n",
    "sum(df[\"Hate(1)_vs_NotHate(0)\"]==1)"
   ]
  },
  {
   "cell_type": "code",
   "execution_count": 18,
   "id": "e4d239c5",
   "metadata": {},
   "outputs": [],
   "source": [
    "nothate_ids = df[df[\"Hate(1)_vs_NotHate(0)\"]==0][\"id\"].tolist()"
   ]
  },
  {
   "cell_type": "code",
   "execution_count": 19,
   "id": "9961e287",
   "metadata": {},
   "outputs": [],
   "source": [
    "hate_ids = df[df[\"Hate(1)_vs_NotHate(0)\"]==1][\"id\"].tolist()"
   ]
  },
  {
   "cell_type": "code",
   "execution_count": 20,
   "id": "35b65bac",
   "metadata": {},
   "outputs": [],
   "source": [
    "nothate_ids = [x + '.jpg' for x in nothate_ids]\n",
    "hate_ids = [x + '.jpg' for x in hate_ids]"
   ]
  },
  {
   "cell_type": "code",
   "execution_count": 21,
   "id": "ac087cc1",
   "metadata": {},
   "outputs": [],
   "source": [
    "hate_train_ids = []\n",
    "hate_val_ids = []\n",
    "hate_test_ids = []\n",
    "for id_ in hate_ids:\n",
    "    if id_ in train_ids:\n",
    "        hate_train_ids.append(id_)\n",
    "    elif id_ in test_ids:\n",
    "        hate_test_ids.append(id_)\n",
    "    else:\n",
    "        hate_val_ids.append(id_)"
   ]
  },
  {
   "cell_type": "code",
   "execution_count": 22,
   "id": "c42416cb",
   "metadata": {},
   "outputs": [],
   "source": [
    "nothate_train_ids = []\n",
    "nothate_val_ids = []\n",
    "nothate_test_ids = []\n",
    "for id_ in nothate_ids:\n",
    "    if id_ in train_ids:\n",
    "        nothate_train_ids.append(id_)\n",
    "    elif id_ in test_ids:\n",
    "        nothate_test_ids.append(id_)\n",
    "    else:\n",
    "        nothate_val_ids.append(id_)"
   ]
  },
  {
   "cell_type": "code",
   "execution_count": 23,
   "id": "598f1b9b",
   "metadata": {},
   "outputs": [],
   "source": [
    "train_path = '/Users/raghavraahul/Downloads/Machine Learning under a Modern Optimization Lens/ML Project/train'\n",
    "test_path = '/Users/raghavraahul/Downloads/Machine Learning under a Modern Optimization Lens/ML Project/test'\n",
    "val_path = '/Users/raghavraahul/Downloads/Machine Learning under a Modern Optimization Lens/ML Project/valid'\n",
    "train_nothate_path = '/Users/raghavraahul/Downloads/Machine Learning under a Modern Optimization Lens/ML Project/train/notHate'\n",
    "train_hate_path = '/Users/raghavraahul/Downloads/Machine Learning under a Modern Optimization Lens/ML Project/train/hate'\n",
    "test_nothate_path = '/Users/raghavraahul/Downloads/Machine Learning under a Modern Optimization Lens/ML Project/test/notHate'\n",
    "test_hate_path = '/Users/raghavraahul/Downloads/Machine Learning under a Modern Optimization Lens/ML Project/test/hate'\n",
    "val_nothate_path = '/Users/raghavraahul/Downloads/Machine Learning under a Modern Optimization Lens/ML Project/valid/notHate'\n",
    "val_hate_path = '/Users/raghavraahul/Downloads/Machine Learning under a Modern Optimization Lens/ML Project/valid/hate'"
   ]
  },
  {
   "cell_type": "code",
   "execution_count": 24,
   "id": "2db29051",
   "metadata": {},
   "outputs": [],
   "source": [
    "val_nothate = len(get_image_files(val_nothate_path))\n",
    "val_hate = len(get_image_files(val_hate_path))\n",
    "test_nothate = len(get_image_files(test_nothate_path))\n",
    "test_hate = len(get_image_files(test_hate_path))\n",
    "train_nothate = len(get_image_files(train_nothate_path))\n",
    "train_hate = len(get_image_files(train_hate_path))"
   ]
  },
  {
   "cell_type": "code",
   "execution_count": 25,
   "id": "04750c1e",
   "metadata": {},
   "outputs": [],
   "source": [
    "# Specify the data directories\n",
    "train_dir = train_path\n",
    "val_dir = val_path\n",
    "test_dir = test_path"
   ]
  },
  {
   "cell_type": "code",
   "execution_count": 26,
   "id": "8bd8c197",
   "metadata": {},
   "outputs": [],
   "source": [
    "# Image data augmentation for training set\n",
    "train_datagen = ImageDataGenerator(\n",
    "    rescale=1./255,\n",
    "    rotation_range=40,\n",
    "    width_shift_range=0.2,\n",
    "    height_shift_range=0.2,\n",
    "    shear_range=0.2,\n",
    "    zoom_range=0.2,\n",
    "    horizontal_flip=True,\n",
    "    fill_mode='nearest'\n",
    ")\n",
    "\n",
    "# Image data augmentation for validation and test sets\n",
    "val_test_datagen = ImageDataGenerator(rescale=1./255)"
   ]
  },
  {
   "cell_type": "code",
   "execution_count": 27,
   "id": "6e8b5918",
   "metadata": {},
   "outputs": [
    {
     "name": "stdout",
     "output_type": "stream",
     "text": [
      "Found 134823 images belonging to 2 classes.\n",
      "Found 5000 images belonging to 2 classes.\n",
      "Found 10000 images belonging to 2 classes.\n"
     ]
    }
   ],
   "source": [
    "# Specify batch size\n",
    "batch_size = 32\n",
    "\n",
    "# Create data generators\n",
    "train_generator = train_datagen.flow_from_directory(\n",
    "    train_dir,\n",
    "    target_size=(180, 180),\n",
    "    batch_size=batch_size,\n",
    "    class_mode='categorical'\n",
    ")\n",
    "\n",
    "val_generator = val_test_datagen.flow_from_directory(\n",
    "    val_dir,\n",
    "    target_size=(180, 180),\n",
    "    batch_size=batch_size,\n",
    "    class_mode='categorical'\n",
    ")\n",
    "\n",
    "test_generator = val_test_datagen.flow_from_directory(\n",
    "    test_dir,\n",
    "    target_size=(180, 180),\n",
    "    batch_size=batch_size,\n",
    "    class_mode='categorical',\n",
    "    shuffle=False  # Important to keep the order of predictions\n",
    ")"
   ]
  },
  {
   "cell_type": "code",
   "execution_count": 28,
   "id": "298b04be",
   "metadata": {},
   "outputs": [],
   "source": [
    "# Compile the model\n",
    "model.compile(optimizer='adam',\n",
    "              loss='binary_crossentropy',\n",
    "              metrics=['accuracy'])"
   ]
  },
  {
   "cell_type": "code",
   "execution_count": null,
   "id": "be267580",
   "metadata": {},
   "outputs": [
    {
     "name": "stdout",
     "output_type": "stream",
     "text": [
      "Epoch 1/10\n",
      "2479/4214 [================>.............] - ETA: 30:24 - loss: 0.6931 - accuracy: 0.5000"
     ]
    }
   ],
   "source": [
    "# Train the model\n",
    "history = model.fit(train_generator,\n",
    "                    steps_per_epoch=len(train_generator),\n",
    "                    epochs=10,\n",
    "                    validation_data=val_generator,\n",
    "                    validation_steps=len(val_generator))"
   ]
  },
  {
   "cell_type": "code",
   "execution_count": null,
   "id": "6e7f8a6e",
   "metadata": {},
   "outputs": [],
   "source": [
    "test_loss, test_acc = model.evaluate(test_generator, steps=len(test_generator))\n",
    "print(f'Test accuracy: {test_acc}')"
   ]
  },
  {
   "cell_type": "code",
   "execution_count": null,
   "id": "e9cf561c",
   "metadata": {},
   "outputs": [],
   "source": []
  },
  {
   "cell_type": "code",
   "execution_count": null,
   "id": "f09c9193",
   "metadata": {},
   "outputs": [],
   "source": []
  },
  {
   "cell_type": "code",
   "execution_count": null,
   "id": "e1234342",
   "metadata": {},
   "outputs": [],
   "source": []
  },
  {
   "cell_type": "code",
   "execution_count": null,
   "id": "dc38506b",
   "metadata": {},
   "outputs": [],
   "source": []
  },
  {
   "cell_type": "code",
   "execution_count": null,
   "id": "7d24c6d5",
   "metadata": {},
   "outputs": [],
   "source": []
  },
  {
   "cell_type": "code",
   "execution_count": null,
   "id": "531526c6",
   "metadata": {},
   "outputs": [],
   "source": []
  },
  {
   "cell_type": "code",
   "execution_count": null,
   "id": "7649d87c",
   "metadata": {},
   "outputs": [],
   "source": []
  },
  {
   "cell_type": "code",
   "execution_count": null,
   "id": "d4619967",
   "metadata": {},
   "outputs": [],
   "source": []
  },
  {
   "cell_type": "code",
   "execution_count": null,
   "id": "6d96c14b",
   "metadata": {},
   "outputs": [],
   "source": []
  },
  {
   "cell_type": "code",
   "execution_count": null,
   "id": "5fa03373",
   "metadata": {},
   "outputs": [],
   "source": []
  },
  {
   "cell_type": "code",
   "execution_count": null,
   "id": "18d2795e",
   "metadata": {},
   "outputs": [],
   "source": []
  },
  {
   "cell_type": "code",
   "execution_count": null,
   "id": "4d133851",
   "metadata": {},
   "outputs": [],
   "source": []
  },
  {
   "cell_type": "code",
   "execution_count": null,
   "id": "93c04ead",
   "metadata": {},
   "outputs": [],
   "source": []
  },
  {
   "cell_type": "code",
   "execution_count": null,
   "id": "6b2cba5e",
   "metadata": {},
   "outputs": [],
   "source": []
  },
  {
   "cell_type": "code",
   "execution_count": null,
   "id": "0e7e865e",
   "metadata": {},
   "outputs": [],
   "source": []
  },
  {
   "cell_type": "code",
   "execution_count": null,
   "id": "32b754af",
   "metadata": {},
   "outputs": [],
   "source": []
  },
  {
   "cell_type": "code",
   "execution_count": null,
   "id": "ab2950ae",
   "metadata": {},
   "outputs": [],
   "source": []
  },
  {
   "cell_type": "code",
   "execution_count": null,
   "id": "574158f4",
   "metadata": {},
   "outputs": [],
   "source": []
  },
  {
   "cell_type": "code",
   "execution_count": null,
   "id": "ca8c6324",
   "metadata": {},
   "outputs": [],
   "source": []
  },
  {
   "cell_type": "code",
   "execution_count": null,
   "id": "be0ce1b3",
   "metadata": {},
   "outputs": [],
   "source": []
  }
 ],
 "metadata": {
  "kernelspec": {
   "display_name": "Python 3 (ipykernel)",
   "language": "python",
   "name": "python3"
  },
  "language_info": {
   "codemirror_mode": {
    "name": "ipython",
    "version": 3
   },
   "file_extension": ".py",
   "mimetype": "text/x-python",
   "name": "python",
   "nbconvert_exporter": "python",
   "pygments_lexer": "ipython3",
   "version": "3.11.3"
  }
 },
 "nbformat": 4,
 "nbformat_minor": 5
}
